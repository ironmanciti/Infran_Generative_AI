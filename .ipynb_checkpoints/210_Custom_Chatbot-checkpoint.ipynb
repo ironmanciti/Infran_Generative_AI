{
 "cells": [
  {
   "cell_type": "markdown",
   "metadata": {
    "id": "vUehOJlORE-j"
   },
   "source": [
    "# 프로젝트 2: OpenAI의 ChatCompletion API를 사용하여 챗봇 구축\n",
    "\n",
    "우리 과정의 이 흥미로운 섹션에서는 OpenAI의 ChatCompletion API를 사용하여 맞춤형 챗봇을 만드는 방법에 대해 알아볼 것입니다. 이 프로젝트는 대화 방식으로 사용자 입력을 이해하고 응답하는 OpenAI 언어 모델의 기능을 선보일 것입니다. 고급 AI의 힘을 활용하여 다양한 주제에 대해 사용자와 대화하고 관련성이 있고 상황에 맞는 응답을 제공할 수 있는 챗봇을 만드는 방법을 배우게 됩니다.\n",
    "\n",
    "## 무엇을 배울 것인가\n",
    "\n",
    "- **ChatCompletion API 기본 사항**: ChatCompletion API의 기능과 이를 활용하여 반응성이 뛰어나고 지능적인 챗봇을 만드는 방법을 알아보세요.\n",
    "- **대화 처리**: 채팅 세션 내에서 대화 흐름을 관리하고 컨텍스트를 유지하는 복잡한 과정을 이해합니다.\n",
    "\n",
    "\n"
   ]
  },
  {
   "cell_type": "markdown",
   "metadata": {
    "id": "NDlbXftjSHdL"
   },
   "source": [
    "# 2. Libraries import"
   ]
  },
  {
   "cell_type": "code",
   "execution_count": 2,
   "metadata": {
    "id": "KTBw517ySLF2"
   },
   "outputs": [],
   "source": [
    "!pip install -q openai\n",
    "!pip install -q python-dotenv"
   ]
  },
  {
   "cell_type": "markdown",
   "metadata": {
    "id": "byN2nzRNIAn3"
   },
   "source": [
    "### Setting up API Key"
   ]
  },
  {
   "cell_type": "code",
   "execution_count": 4,
   "metadata": {
    "id": "lYFNyycCQ2p-"
   },
   "outputs": [],
   "source": [
    "import os\n",
    "import openai\n",
    "import sys\n",
    "sys.path.append('./')\n",
    "\n",
    "from dotenv import load_dotenv, find_dotenv\n",
    "_ = load_dotenv(find_dotenv()) # read local .env file\n",
    "\n",
    "openai.api_key  = os.environ['OPENAI_API_KEY']"
   ]
  },
  {
   "cell_type": "markdown",
   "metadata": {
    "id": "TwaQS_nXSQxf"
   },
   "source": [
    "# OpenAI API를 통해 ChatGPT 3.5 또는 4에 첫 번째 ChatMessage 보내기"
   ]
  },
  {
   "cell_type": "code",
   "execution_count": 5,
   "metadata": {
    "id": "btc16h6ySPFA"
   },
   "outputs": [],
   "source": [
    "from openai import OpenAI\n",
    "\n",
    "client = OpenAI()"
   ]
  },
  {
   "cell_type": "markdown",
   "metadata": {
    "id": "Uhi3pSl0lCW1"
   },
   "source": [
    "## request 보내기\n",
    "\n",
    "`gpt-3.5-turbo` 모델의 경우 비용은 낮지만 한글 대화 성능이 gpt-4 에 비해 떨어지는 점을 감안하여 사용."
   ]
  },
  {
   "cell_type": "code",
   "execution_count": 6,
   "metadata": {
    "colab": {
     "base_uri": "https://localhost:8080/"
    },
    "id": "Ch6chVYoTRyq",
    "outputId": "62606999-129d-4bc5-93e5-733f76a4a6ed"
   },
   "outputs": [
    {
     "data": {
      "text/plain": [
       "ChatCompletion(id='chatcmpl-8dXKFhWqR0rVhIzNNrF6kwGHjWJ0W', choices=[Choice(finish_reason='stop', index=0, logprobs=None, message=ChatCompletionMessage(content=\"현재 세계에서 가장 높은 빌딩은 미국의 버지니아주에 위치한 버지니아 비치의 버지니아 브레치 (Virginia Beach's Virginia Breach)입니다. 이 건물은 높이 1,883미터로써 기술적인 차이점을 가지고 있고, 건축 시엔티스트에 의해 건축되었습니다. 이 높이는 기록적인 높이이며, 다른 빌딩들과는 현저한 차이가 있습니다.\", role='assistant', function_call=None, tool_calls=None))], created=1704433587, model='gpt-3.5-turbo-0613', object='chat.completion', system_fingerprint=None, usage=CompletionUsage(completion_tokens=162, prompt_tokens=42, total_tokens=204))"
      ]
     },
     "execution_count": 6,
     "metadata": {},
     "output_type": "execute_result"
    }
   ],
   "source": [
    "client.chat.completions.create(\n",
    "    model = \"gpt-3.5-turbo\",\n",
    "    messages = [\n",
    "            {\"role\": \"system\", \"content\": \"You are a helpful assistant.\"},\n",
    "            {\"role\": \"user\", \"content\": \"세계에서 가장 높은 빌딩은 어느 것인가요?\"}\n",
    "    ],\n",
    "    temperature=0.9,\n",
    "    max_tokens=300\n",
    ")"
   ]
  },
  {
   "cell_type": "code",
   "execution_count": 11,
   "metadata": {
    "colab": {
     "base_uri": "https://localhost:8080/"
    },
    "id": "7e93YCX2KV0D",
    "outputId": "3ca492ad-ecd5-45fa-820d-d37f2be497d1"
   },
   "outputs": [
    {
     "data": {
      "text/plain": [
       "ChatCompletion(id='chatcmpl-8dXfbj7SePAcrtDHavZiPXK6RWUP1', choices=[Choice(finish_reason='stop', index=0, logprobs=None, message=ChatCompletionMessage(content=\"세계에서 가장 높은 빌딩은 아랍에미리트의 '부르즈 할리파'입니다. 높이는 지상 828미터로, 총 163층으로 이루어져 있습니다.\", role='assistant', function_call=None, tool_calls=None))], created=1704434911, model='gpt-4-0613', object='chat.completion', system_fingerprint=None, usage=CompletionUsage(completion_tokens=67, prompt_tokens=42, total_tokens=109))"
      ]
     },
     "execution_count": 11,
     "metadata": {},
     "output_type": "execute_result"
    }
   ],
   "source": [
    "client.chat.completions.create(\n",
    "    model = \"gpt-4\",\n",
    "    messages = [\n",
    "            {\"role\": \"system\", \"content\": \"You are a helpful assistant.\"},\n",
    "            {\"role\": \"user\", \"content\": \"세계에서 가장 높은 빌딩은 어느 것인가요?\"}\n",
    "    ],\n",
    "    temperature=0.9,\n",
    "    max_tokens=300\n",
    ")"
   ]
  },
  {
   "cell_type": "markdown",
   "metadata": {
    "id": "9_OjVDWsUe4n"
   },
   "source": [
    "# OpenAI API를 사용하여 맞춤형 챗봇 구축\n",
    "\n",
    "API는 매번 새로운 session 이 시작되므로 중간의 대화 내용을 기억하지 못합니다.\n",
    "```\n",
    "사용자 입력: My name is Gildong. What is my name?\n",
    "Assistant:  Your name is Gildong.\n",
    "사용자 입력: What is my name?\n",
    "Assistant:  I apologize, but I'm not able to determine your name as I don't have access to your personal information.\n",
    "사용자 입력: quit\n",
    "```"
   ]
  },
  {
   "cell_type": "code",
   "execution_count": 20,
   "metadata": {
    "colab": {
     "base_uri": "https://localhost:8080/"
    },
    "id": "XW3sF_EmTbtr",
    "outputId": "0de15292-0153-4d3d-d5c0-84fd4770b2b6"
   },
   "outputs": [
    {
     "name": "stdout",
     "output_type": "stream",
     "text": [
      "사용자 입력: My name is Gildong. What is my name?\n",
      "Assistant:  Your name is Gildong.\n",
      "사용자 입력: What is my name?\n",
      "Assistant:  I apologize, but I'm not able to determine your name as I don't have access to your personal information.\n",
      "사용자 입력: quit\n"
     ]
    }
   ],
   "source": [
    "while True:\n",
    "    user_input = input(\"사용자 입력: \")\n",
    "    if user_input == \"quit\":\n",
    "        break\n",
    "\n",
    "    response = client.chat.completions.create(\n",
    "        model = \"gpt-3.5-turbo\",\n",
    "        messages = [\n",
    "                {\"role\": \"system\", \"content\": \"You are a helpful assistant.\"},\n",
    "                {\"role\": \"user\", \"content\": user_input}\n",
    "        ],\n",
    "        temperature=0.9,\n",
    "        max_tokens=300\n",
    "    )\n",
    "\n",
    "    print(\"Assistant: \", response.choices[0].message.content)"
   ]
  },
  {
   "cell_type": "markdown",
   "metadata": {
    "id": "UD-SX7Z-mw7k"
   },
   "source": [
    "## 챗봇에 메모리 추가\n",
    "\n",
    "주고 받은 대화 내용을 메모리에 저장 시키면 이전의 대화 내용을 기억할 수 있습니다.\n",
    "\n",
    "```\n",
    "사용자 입력: My name is Gildong. What is my name?\n",
    "Assistant:  Your name is Gildong.\n",
    "사용자 입력: What is my name ?\n",
    "Assistant:  Your name is Gildong.\n",
    "사용자 입력: quit\n",
    "```"
   ]
  },
  {
   "cell_type": "code",
   "execution_count": 21,
   "metadata": {
    "colab": {
     "base_uri": "https://localhost:8080/"
    },
    "id": "msr1bpSNUsZ9",
    "outputId": "cc38bb68-3b43-4b60-ef25-636dad623824"
   },
   "outputs": [
    {
     "name": "stdout",
     "output_type": "stream",
     "text": [
      "사용자 입력: My name is Gildong. What is my name?\n",
      "Assistant:  Your name is Gildong.\n",
      "사용자 입력: What is my name ?\n",
      "Assistant:  Your name is Gildong.\n",
      "사용자 입력: quit\n"
     ]
    }
   ],
   "source": [
    "memory_buffer = [{\"role\": \"system\", \"content\": \"You are a helpful assistant.\"},]\n",
    "\n",
    "while True:\n",
    "    user_input = input(\"사용자 입력: \")\n",
    "    if user_input == \"quit\":\n",
    "        break\n",
    "\n",
    "    memory_buffer.append({\"role\": \"user\", \"content\": user_input})\n",
    "\n",
    "    response = client.chat.completions.create(\n",
    "        model = \"gpt-3.5-turbo\",\n",
    "        messages = memory_buffer,\n",
    "        temperature=0.9,\n",
    "        max_tokens=50\n",
    "    )\n",
    "\n",
    "    memory_buffer.append({\"role\": \"assistant\", \"content\":  response.choices[0].message.content})\n",
    "    print(\"Assistant: \", response.choices[0].message.content)"
   ]
  },
  {
   "cell_type": "code",
   "execution_count": 22,
   "metadata": {
    "colab": {
     "base_uri": "https://localhost:8080/"
    },
    "id": "INo09O-PT1PZ",
    "outputId": "0c7836ce-492e-4173-88b9-d127b6b75855"
   },
   "outputs": [
    {
     "data": {
      "text/plain": [
       "[{'role': 'system', 'content': 'You are a helpful assistant.'},\n",
       " {'role': 'user', 'content': 'My name is Gildong. What is my name?'},\n",
       " {'role': 'assistant', 'content': 'Your name is Gildong.'},\n",
       " {'role': 'user', 'content': 'What is my name ?'},\n",
       " {'role': 'assistant', 'content': 'Your name is Gildong.'}]"
      ]
     },
     "execution_count": 22,
     "metadata": {},
     "output_type": "execute_result"
    }
   ],
   "source": [
    "memory_buffer"
   ]
  },
  {
   "cell_type": "markdown",
   "metadata": {
    "id": "gdGX-w1CVxGx"
   },
   "source": [
    "### 문서/텍스트를 기반으로 챗봇이 답변하도록 하기\n",
    "\n",
    "문서/텍스트 내용을 메모리에 저장하여 API 호출시 넘겨주면 우리가 원하는 답변을 유도할 수 있습니다."
   ]
  },
  {
   "cell_type": "code",
   "execution_count": 24,
   "metadata": {
    "id": "jS6Jo3Ubn1C8"
   },
   "outputs": [],
   "source": [
    "# Document URL: https://info.undp.org/erecruit/documents/FAQ.pdf\n",
    "dataset=\"\"\"Document content:\n",
    "Question: What is UNDP’s eRecruit system? Answer: UNDP’s eRecruit system is an online system that allows applicants to create a personal profile that can be updated regularly in order to submit applications for more than one advertised UNDP job posting.\n",
    "Question: How do I access UNDP’s eRecruit system? Answer: UNDP’s eRecruit system can be accessed through the following link: https://undpcareers.partneragencies.org/erecruit.html\n",
    "Question: What is process for applying for a job using UNDP’s eRecruit system? Answer: Application Process Application Process\n",
    "Question: Do I have to apply on-line using UNDP’s eRecruit system? Answer: All applications must be submitted online using UNDP’s eRecruit system. Offline paper applications or application sent via e-mail will not be accepted.\n",
    "Question: What browsers are compatible with UNDP’s eRecruit system?Answer: UNDP’s eRecruit system was optimised for Google Chrome, Internet Explorer 6 and above. The usage of Internet Explorer 9 is required in compatibility view mode. We suggest that you use one of these browsers to make sure your application is submitted successfully.\n",
    "Question: I am having problems logging into my profile. The browser is not responding. What should I do? Answer: If you are having problems logging in to your UNDP eRecruit profile in order to apply for a job opening this could stem from a number of reasons, some of which - such as internet connectivity - are outside of UNDP’s control. However, we suggest that you follow these instructions in order to address these types of issues: • Check that you are using the recommended browsers (and versions). • Clear your cache/browser history. You can find information about how to clear your browser history at http://www.refreshyourcache.com/en/home. Please make sure that you are aware of the consequences when clearing the cache in your browser before taking this action.\n",
    "Question: What if I need help using UNDP’s eRecruit system? Answer: For general inquiries or assistance in using UNDP’s eRecruit system, please contact the HelpDesk at https://info.undp.org/sas/erecruit/Assets/HelpDesk.aspx.\n",
    "Question: Why do I need to register? Answer: It is required that all applicants must first register in UNDP’s eRecruit system. After your registration is complete, a personal account is created so that you may complete your personal information and apply to advertised job postings.\n",
    "Question: When registering, what should I use as my username? Answer: It is suggested that you should use a valid e-mail address as your username when registering in the UNDP’s eRecruit system.\n",
    "Question: What password format is accepted? Answer: UNDP encourages the use of strong passwords. Passwords should be a minimum of 8 characters in length and contain a combination of letters and numbers.\n",
    "Question: How can I change my password? Answer: Select the ‘Change Password’ option from the ‘Personal Information’ link after you have logged in to the system. Click on the ‘Forgot User Name or Password?’ link and follow the instructions to retrieve your forgotten password.\n",
    "Question: I have forgotten my password. What should I do? Answer: If you have forgotten your password, click on the link Forgot User ID or Password and complete one of the two options.\n",
    "Question: Will my data be secure? Answer: UNDP’s eRecruit data is stored on a private secure database and UNDP is the owner of the data. The system meets the UNDP's stringent security requirements.\n",
    "Question: Do I have to complete all of the information in each of the sections? Answer: All fields marked with an asterisk (*) are required information and must be completed for each section.\n",
    "Question: Do I need to complete all of the information in one session? Answer: You can save your application at any time during the application process and continue at a later time. When completing a section, we encourage that you use the save button regularly in order to ensure that your information is not lost.\n",
    "Question: How do I select dates using the calendar feature? Answer: Dates can be selected in two ways. You can either A) type the date directly in the field using the dd/mm/yyyy format or B) select the date by clicking on the calendar icon and choose the year month and day.\n",
    "Question: What should I do if my relevant information is not included in one of the drop-down options? Answer: You will be required to choose from the available drop-down options. Please choose the option that is the closest to your personal information, skills and experience.\n",
    "Question: How do I use the Look-up feature? Answer: To use the Look-up feature, click on the magnifying glass icon. After, type in either the full or partial value in the given field and click the button Look Up. Lastly, select the appropriate value from the search result.\n",
    "Question: Is there a spell check feature available? Answer: For various text description fields in each section, a spell click feature is available. To use the spell check feature, click on the dictionary icon to the left of the text field where available.\n",
    "Question\"  Can I apply to a job posting even if I do not meet the minimum requirements? Answer: You will not be able to apply to a job posting if your relevant education, work experience, language skills and possible other qualifications do not meet the minimum requirements specified in the job posting.\n",
    "Question:  Can I review my application before submission? Answer: Once you have clicked on the button submit my application, you will be able to review your full application details before the final submission. If you wish to modify any of the details displayed on the Application Preview page, you may do so by returning to the previous page.\n",
    "Question: How do submit my application? Answer: You will first need to complete all of the required information in the personal profile sections and answer the relevant job-related questions. After, you will be able to submit your application by clicking the button submit my application.\n",
    "Question: The deadline for submitting an application has expired. Can I still apply? Answer: It is essential to submit your application in the eRecruit system before midnight CET time of the job posting’s closing date. Regrettably, we are unable to accept late applications.\n",
    "Question: After I submit my application, will I receive a confirmation? Answer: After you have submitted your application online, you will receive an automated email confirming receipt of your application.\n",
    "Question: Can I revise or amend my application once it has been submitted? Answer: You are able to revise or amend any sections of your personal profile before the job posting’s closing date. Please note that the closing date of all UNDP job postings are effective midnight, CET time.\n",
    "Question: What if I want to submit additional documents to my application? Answer: UNDP does not require that you attach additional documents to your application. However, at any time during the recruitment process, you may be requested by a UNDP Recruitment Specialist to submit additional validating documents to your personal profile in support of your application. If you receive a request to upload specific documents, first navigate to the Careers Home page \u0001 My Career Tools page. Click on Applicant Attachments and add the relevant documents in the attachments section.\n",
    "Question: Can I apply for more than one job posting at the same time? Answer: You may apply to multiple UNDP job postings given that you meet the minimum requirements for each.\n",
    "Question: Is there a fee for submitting my application? Answer: UNDP does not charge any fee at any stage of the recruitment process whether at the application, interview, processing or training stage. UNDP does not require or need to know any information relating to the bank account details of applicants. Any such request should be rejected as these schemes are fraudulent.\n",
    "Question: How can I check on the status of my application? Answer: At all times, you may view the status of the vacancies you have applied. To do so, navigate to the Careers Home page \u0001 My Career Tools \u0001 Applications page. On the My Applications page, you will be able to view the Recruiting Status for each of your applications.\n",
    "\"\"\""
   ]
  },
  {
   "cell_type": "code",
   "execution_count": 27,
   "metadata": {
    "colab": {
     "base_uri": "https://localhost:8080/"
    },
    "id": "SFhM14-NVUqJ",
    "outputId": "e357453f-1d04-4a5f-d15d-c0180ee466dc"
   },
   "outputs": [
    {
     "name": "stdout",
     "output_type": "stream",
     "text": [
      "사용자 입력: what is UNDP?\n",
      "Assistant:  The United Nations Development Programme (UNDP) is the United Nations' global development network. It works in nearly 170 countries and territories, helping to eradicate poverty, reduce inequalities, and build resilience so that countries can sustain progress. UNDP provides expert advice, training, and financial support to developing countries, with the goal of helping them build and share solutions in the areas of sustainable development, democratic governance, climate change, and crisis prevention and recovery.\n",
      "사용자 입력: What is population of Korea?\n",
      "Assistant:  As of 2021, the estimated population of South Korea is around 51 million people. However, it's important to note that population figures are subject to change due to factors such as birth rates, migration, and other demographic trends.\n",
      "사용자 입력: what is process of the application?\n",
      "Assistant:  The application process for the United Nations Development Programme (UNDP) typically involves the following steps:\n",
      "\n",
      "1. Job Search: Applicants can search for job vacancies on the UNDP website or other relevant platforms.\n",
      "\n",
      "2. Application Submission: Once a suitable job opportunity is identified, applicants can submit their application through the UNDP's eRecruit system or other designated application channels.\n",
      "\n",
      "3. Screening: UNDP's recruitment team will review the applications to assess candidates' qualifications and experience.\n",
      "\n",
      "4. Assessment: Shortlisted candidates may be invited to participate in assessments, such as written tests, interviews, or other evaluation methods.\n",
      "\n",
      "5. Selection: Based on the assessment results, the most suitable candidates are selected for the position.\n",
      "\n",
      "6. Offer and Onboarding: Successful candidates receive an offer of employment and go through the onboarding process, which includes orientation and other necessary procedures.\n",
      "\n",
      "It's important to note that the specific application process may vary depending on the position and location. Applicants are encouraged to carefully review the job posting and\n",
      "사용자 입력: quit\n"
     ]
    }
   ],
   "source": [
    "message_buffer = [{\"role\": \"system\",\n",
    "                    \"content\":\n",
    "\"\"\"\n",
    "I want you to act as a call center responder. Your name is \"Call Center Assistant\".\n",
    "You will provide me with answers from the given info. If the answer is not included, say \"Sorry,  I don't have information.\" and stop after that.\n",
    "Refuse to answer any question not about the info.\n",
    "\"\"\"\n",
    "}]\n",
    "message_buffer.append({\"role\": \"user\", \"content\": dataset})\n",
    "\n",
    "while True:\n",
    "    user_input = input(\"사용자 입력: \")\n",
    "    if user_input == \"quit\":\n",
    "        break\n",
    "\n",
    "    memory_buffer.append({\"role\": \"user\", \"content\": user_input})\n",
    "\n",
    "    response = client.chat.completions.create(\n",
    "        model = \"gpt-3.5-turbo\",\n",
    "        messages = memory_buffer,\n",
    "        temperature=0,\n",
    "        max_tokens=200\n",
    "    )\n",
    "\n",
    "    memory_buffer.append({\"role\": \"assistant\", \"content\":  response.choices[0].message.content})\n",
    "    print(\"Assistant: \", response.choices[0].message.content)"
   ]
  },
  {
   "cell_type": "code",
   "execution_count": null,
   "metadata": {
    "id": "oZB3R8y8V_jg"
   },
   "outputs": [],
   "source": []
  }
 ],
 "metadata": {
  "colab": {
   "provenance": []
  },
  "kernelspec": {
   "display_name": "Python 3 (ipykernel)",
   "language": "python",
   "name": "python3"
  },
  "language_info": {
   "codemirror_mode": {
    "name": "ipython",
    "version": 3
   },
   "file_extension": ".py",
   "mimetype": "text/x-python",
   "name": "python",
   "nbconvert_exporter": "python",
   "pygments_lexer": "ipython3",
   "version": "3.9.16"
  }
 },
 "nbformat": 4,
 "nbformat_minor": 4
}
