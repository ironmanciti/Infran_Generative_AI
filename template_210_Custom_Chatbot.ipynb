{
 "cells": [
  {
   "cell_type": "markdown",
   "metadata": {
    "id": "vUehOJlORE-j"
   },
   "source": [
    "# OpenAI의 ChatCompletion API를 사용하여 챗봇 구축\n",
    "\n",
    "우리 과정의 이 흥미로운 섹션에서는 OpenAI의 ChatCompletion API를 사용하여 맞춤형 챗봇을 만드는 방법에 대해 알아볼 것입니다. 이 프로젝트는 대화 방식으로 사용자 입력을 이해하고 응답하는 OpenAI 언어 모델의 기능을 선보일 것입니다. 고급 AI의 힘을 활용하여 다양한 주제에 대해 사용자와 대화하고 관련성이 있고 상황에 맞는 응답을 제공할 수 있는 챗봇을 만드는 방법을 배우게 됩니다.\n",
    "\n",
    "\n"
   ]
  },
  {
   "cell_type": "markdown",
   "metadata": {
    "id": "NDlbXftjSHdL"
   },
   "source": [
    "# 2. Libraries import"
   ]
  },
  {
   "cell_type": "markdown",
   "metadata": {
    "id": "byN2nzRNIAn3"
   },
   "source": [
    "### Setting up API Key"
   ]
  },
  {
   "cell_type": "markdown",
   "metadata": {
    "id": "TwaQS_nXSQxf"
   },
   "source": [
    "# OpenAI API를 통해 ChatGPT 3.5 또는 4에 첫 번째 ChatMessage 보내기"
   ]
  },
  {
   "cell_type": "markdown",
   "metadata": {
    "id": "Uhi3pSl0lCW1"
   },
   "source": [
    "## request 보내기\n",
    "\n",
    "`gpt-3.5-turbo` 모델의 경우 비용은 낮지만 한글 대화 성능이 gpt-4 에 비해 떨어지는 점을 감안하여 사용."
   ]
  },
  {
   "cell_type": "markdown",
   "metadata": {
    "id": "9_OjVDWsUe4n"
   },
   "source": [
    "# OpenAI API를 사용하여 맞춤형 챗봇 구축\n",
    "\n",
    "API는 매번 새로운 session 이 시작되므로 중간의 대화 내용을 기억하지 못합니다.\n",
    "```\n",
    "사용자 입력: My name is Gildong. What is my name?\n",
    "Assistant:  Your name is Gildong.\n",
    "사용자 입력: What is my name?\n",
    "Assistant:  I apologize, but I'm not able to determine your name as I don't have access to your personal information.\n",
    "사용자 입력: quit\n",
    "```"
   ]
  },
  {
   "cell_type": "markdown",
   "metadata": {
    "id": "UD-SX7Z-mw7k"
   },
   "source": [
    "## 챗봇에 메모리 추가\n",
    "\n",
    "주고 받은 대화 내용을 메모리에 저장 시키면 이전의 대화 내용을 기억할 수 있습니다.\n",
    "\n",
    "```\n",
    "사용자 입력: My name is Gildong. What is my name?\n",
    "Assistant:  Your name is Gildong.\n",
    "사용자 입력: What is my name ?\n",
    "Assistant:  Your name is Gildong.\n",
    "사용자 입력: quit\n",
    "```"
   ]
  },
  {
   "cell_type": "markdown",
   "metadata": {
    "id": "gdGX-w1CVxGx"
   },
   "source": [
    "### 문서/텍스트를 기반으로 챗봇이 답변하도록 하기\n",
    "\n",
    "문서/텍스트 내용을 메모리에 저장하여 API 호출시 넘겨주면 우리가 원하는 답변을 유도할 수 있습니다."
   ]
  },
  {
   "cell_type": "markdown",
   "metadata": {
    "id": "aldpG86H9S6D"
   },
   "source": [
    "<< 대화 예시 >>\n",
    "사용자 입력: 맞춤법 검사 기능을 사용할 수 있나요\n",
    "Assistant:  네, 맞춤법 검사 기능을 사용할 수 있습니다. 어떤 문장을 맞춤법 검사해드릴까요?  \n",
    "\n",
    "사용자 입력: UNDP는 어떤 비밀번호 형식을 요구하나요\n",
    "Assistant:  UNDP는 다음과 같은 비밀번호 형식을 요구합니다:\n",
    "- 최소 8자 이상의 길이\n",
    "- 대문자와 소문자를 혼합하여 사용\n",
    "- 숫자와 특수문자를 혼합하여 사용  \n",
    "\n",
    "사용자 입력: 각 섹셔의 모든 정보를 제공해야하나요\n",
    "Assistant:  UNDP에 따르면, 각 섹션에서 요구하는 정보는 다를 수 있습니다. 일반적으로, UNDP 신청서나 등록 절차에서는 다음과 같은 정보를 제공해야 할 수 있습니다:\n",
    "\n",
    "1. 개인 정보: 이름, 생년월일, 성별, 국적 등 개인 신상정보\n",
    "2. 연락처 정보: 전화번호, 이메일 주소, 주소 등 연락처 정보\n",
    "3. 학력 및 경력: 학력 수준, 전공, 졸업 일자, 이전 직장 경력 등\n",
    "4. 기술 및 자격증: 특정 기술 또는 자격증 보유 여  \n",
    "\n",
    "사용자 입력: 강남에서 남산에 가는 교통편을 알려주세요\n",
    "Assistant:  강남에서 남산으로 가는 교통편은 다양합니다. 여러 가지 옵션 중에서 몇 가지를 알려드리겠습니다:\n",
    "\n",
    "1. 지하철:\n",
    "   - 강남역에서 3호선을 타고 충무로역으로 이동한 후, 3호선에서 4호선으로 환승하여 회현역에서 1호선으로 환승합니다. 그리고 남산역에서 하차하면 됩니다.\n",
    "\n",
    "2. 버스:\n",
    "   - 강남역 혹은 강남역 근처에서 남산 방향으로 가는 버스를 탈 수 있습니다. 예를 들어, 402, 405, 406  \n",
    "\n",
    "사용자 입력: stop\n",
    "Assistant:  알겠습니다. 추가로 도움이 필요하시면   \n",
    "언제든지 말씀해주세요. 좋은 하루 되세요!  \n",
    "\n",
    "사용자 입력: quit"
   ]
  }
 ],
 "metadata": {
  "colab": {
   "provenance": []
  },
  "kernelspec": {
   "display_name": "Python 3 (ipykernel)",
   "language": "python",
   "name": "python3"
  },
  "language_info": {
   "codemirror_mode": {
    "name": "ipython",
    "version": 3
   },
   "file_extension": ".py",
   "mimetype": "text/x-python",
   "name": "python",
   "nbconvert_exporter": "python",
   "pygments_lexer": "ipython3",
   "version": "3.9.16"
  }
 },
 "nbformat": 4,
 "nbformat_minor": 0
}
