{
 "cells": [
  {
   "cell_type": "markdown",
   "id": "22a511e7",
   "metadata": {
    "id": "22a511e7"
   },
   "source": [
    "# Method 1 - openai library 이용\n",
    "## role of the messages author\n",
    "\n",
    "OpenAI API에서 각 메시지의 저자(`author`) 역할은 다음과 같은 의미를 가집니다:\n",
    "\n",
    "1. **system**: 시스템 관련 메시지나 지침. 예를 들면, 어시스턴트에게 특정 작업을 수행하는 방법에 대한 지침을 제공하는 경우에 사용됩니다. 이러한 지침은 어시스턴트의 응답을 안내하거나 제한할 수 있습니다.\n",
    "\n",
    "2. **user**: 사용자가 입력한 메시지. 대체로 사용자의 질문, 요청, 지침 등을 나타냅니다.\n",
    "\n",
    "3. **assistant**: 어시스턴트(즉, 모델)가 반환하는 응답 또는 메시지. 사용자의 질문에 대한 답변, 제안, 설명 등을 포함할 수 있습니다.\n",
    "\n",
    "4. **function**: API의 이전 버전에서 사용됐던 것으로, 특정 기능이나 동작을 어시스턴트에게 요청할 때 사용되었습니다. 최신 버전에서는 일반적으로 사용되지 않습니다.\n",
    "\n",
    "이러한 역할은 대화형 세션에서 메시지의 발신자와 의도를 구별하는 데 도움을 줍니다. API는 이 정보를 사용하여 적절한 방식으로 반응하거나 응답합니다."
   ]
  },
  {
   "cell_type": "markdown",
   "id": "a589797d",
   "metadata": {
    "id": "a589797d"
   },
   "source": [
    "# Method 2 - API Endpoint 이용\n",
    "\n",
    "payload\"는 주로 HTTP 요청을 보낼 때 전달되는 데이터를 의미합니다. API 호출에서 \"payload\"는 주로 POST 요청의 본문에 포함된 데이터를 나타냅니다.  \n",
    "\n",
    "- temperature : 사용할 샘플링 온도는 0에서 2 사이입니다. 0.8과 같이 값이 높을수록 출력이 더 무작위로 생성(Hallucination 발생 가능)되고, 0.2와 같이 값이 낮을수록 더 집중적이고 결정적이게 됩니다.\n",
    "\n",
    "- top_p : temperature의 대안으로, 확률 top_p인 토큰의 결과를 고려합니다. 따라서 0.1은 상위 10% 확률을 구성하는 토큰만 고려된다는 의미입니다.\n",
    "\n",
    "**temperature 와 top_p 중 하나만 변경하고, 둘 다 변경하지는 않는 것이 좋습니다.**  \n",
    "\n",
    "- n:  각 입력 메시지에 대해 생성할 chat completion 선택 수입니다.  \n",
    "\n",
    "-  presence_penalty : -2.0과 2.0 사이의 숫자입니다. 양수 값은 지금까지 텍스트에 나타나는지 여부에 따라 새 토큰에 불이익을 주어 모델이 새로운 주제에 관해 이야기할 가능성을 높입니다.\n",
    "\n",
    "- frequency_penalty : -2.0과 2.0 사이의 숫자입니다. 양수 값은 지금까지 텍스트의 기존 빈도를 기반으로 새 토큰에 불이익을 주어 모델이 동일한 줄을 그대로 반복할 가능성을 줄입니다.  \n",
    "\n",
    "Bearer는 HTTP 인증 스키마 중 하나입니다. 웹 서비스에서 사용하는 토큰 기반의 인증 방식 중 가장 일반적인 방식입니다. Bearer를 사용하면, 클라이언트는 해당 토큰을 포함하여 서버에 요청을 보낼 수 있으며, 서버는 이 토큰을 검증하여 해당 클라이언트의 요청을 인증합니다. Bearer {토큰} 형식에서 {토큰} 부분은 실제 API를 사용하기 위한 인증 토큰을 나타냅니다."
   ]
  },
  {
   "cell_type": "markdown",
   "id": "0aa0d95d",
   "metadata": {
    "id": "0aa0d95d"
   },
   "source": [
    "### response 내용\n",
    "1. **choices**: API 응답의 주요 내용이 포함된 배열입니다.\n",
    "   - **finish_reason**: 응답이 완료된 이유입니다. 'stop'은 출력이 종료된 이유가 됩니다.\n",
    "   - **index**: 선택 사항의 인덱스 번호입니다.\n",
    "   - **message**: 사용자 또는 보조프로그램의 메시지 내용입니다.\n",
    "     - **content**: 보조프로그램이 생성한 메시지 내용입니다.\n",
    "     - **role**: 이 메시지를 생성한 주체입니다.  'assistant'는 메시지가 OpenAI의 assistena program으로부터 생성되었다는 것을 의미합니다.\n",
    "\n",
    "2. **created**: 응답이 생성된 시간의 타임스탬프입니다.\n",
    "\n",
    "3. **id**: 응답에 할당된 고유 식별자입니다.\n",
    "\n",
    "4. **model**: 사용된 모델의 이름입니다.\n",
    "\n",
    "5. **object**: 이 객체의 유형을 나타냅니다. 'chat.completion'은 채팅 완료 응답임을 나타냅니다.\n",
    "\n",
    "6. **usage**: 이 요청에서 사용된 토큰의 수를 나타내는 정보입니다.\n",
    "   - **completion_tokens**: 응답 내용에서 사용된 토큰 수입니다.\n",
    "   - **prompt_tokens**: 사용자의 원래 질문에서 사용된 토큰 수입니다.\n",
    "   - **total_tokens**: 전체 토큰 수입니다."
   ]
  }
 ],
 "metadata": {
  "colab": {
   "provenance": []
  },
  "kernelspec": {
   "display_name": "Python 3 (ipykernel)",
   "language": "python",
   "name": "python3"
  },
  "language_info": {
   "codemirror_mode": {
    "name": "ipython",
    "version": 3
   },
   "file_extension": ".py",
   "mimetype": "text/x-python",
   "name": "python",
   "nbconvert_exporter": "python",
   "pygments_lexer": "ipython3",
   "version": "3.9.16"
  }
 },
 "nbformat": 4,
 "nbformat_minor": 5
}
