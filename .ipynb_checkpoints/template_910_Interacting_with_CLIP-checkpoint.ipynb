{
 "cells": [
  {
   "cell_type": "markdown",
   "metadata": {
    "id": "YPHN7PJgKOzb"
   },
   "source": [
    "# CLIP과의 상호작용\n",
    "\n",
    "CLIP 모델을 다운로드 및 실행하고, 임의 이미지와 텍스트 입력 간의 유사성을 계산하고, 제로샷 이미지 분류를 수행하는 방법을 보여줍니다.\n",
    "\n",
    "### Colab 에서 실행"
   ]
  },
  {
   "cell_type": "markdown",
   "metadata": {
    "id": "_AZx_l6eoJkp"
   },
   "source": [
    "ftfy는 \"fixes text for you\"의 약자로, 텍스트 데이터를 깔끔하게 정리해주는 Python 라이브러리"
   ]
  },
  {
   "cell_type": "markdown",
   "metadata": {
    "id": "eFxgLV5HAEEw"
   },
   "source": [
    "# 모델 로딩\n",
    "\n",
    "`clip.available_models()`는 사용 가능한 CLIP 모델의 이름을 나열합니다."
   ]
  },
  {
   "cell_type": "markdown",
   "metadata": {
    "id": "21slhZGCqANb"
   },
   "source": [
    "# 이미지 전처리\n",
    "\n",
    "모델이 기대하는 이미지 해상도에 맞게 입력 이미지의 크기를 조정하고 가운데 부분을 자릅니다. 그 전에 데이터 세트 평균과 표준 편차를 사용하여 픽셀 강도를 정규화합니다.\n",
    "\n",
    "`clip.load()`의 두 번째 반환 값에는 이 사전 처리를 수행하는 torchvision `Transform`이 포함되어 있습니다.\n",
    "\n"
   ]
  },
  {
   "cell_type": "markdown",
   "metadata": {
    "id": "xwSB5jZki3Cj"
   },
   "source": [
    "# 텍스트 전처리\n",
    "\n",
    "`clip.tokenize()`를 사용하여 대소문자를 구분하지 않는 토크나이저를 사용합니다. 기본적으로 출력은 77개의 토큰 길이가 되도록 채워지며, 이는 CLIP 모델이 예상하는 것입니다."
   ]
  },
  {
   "cell_type": "markdown",
   "metadata": {
    "id": "4W8ARJVqBJXs"
   },
   "source": [
    "# 입력 이미지 및 텍스트 설정\n",
    "\n",
    "8개의 예시 이미지와 해당 텍스트 설명을 모델에 제공하고 해당 feature 간의 유사성을 비교할 것입니다.\n",
    "\n",
    "토크나이저는 대소문자를 구분하지 않으며 적절한 텍스트 설명을 자유롭게 제공할 수 있습니다."
   ]
  },
  {
   "cell_type": "markdown",
   "metadata": {
    "id": "WEVKsji6WOIX"
   },
   "source": [
    "## feature 생성\n",
    "\n",
    "이미지를 정규화하고, 각 텍스트 입력을 토큰화하고, 모델의 순방향 전파를 실행하여 이미지와 텍스트 feature를 얻습니다."
   ]
  },
  {
   "cell_type": "markdown",
   "metadata": {
    "id": "cuxm2Gt4Wvzt"
   },
   "source": [
    "## 코사인 유사도 계산\n",
    "\n",
    "feature를 정규화하고 각 쌍의 내적을 계산합니다."
   ]
  },
  {
   "cell_type": "markdown",
   "metadata": {
    "id": "alePijoXy6AH"
   },
   "source": [
    "# 제로샷 이미지 분류\n",
    "\n",
    "코사인 유사성( x 100배)을 소프트맥스 연산의 로짓으로 사용하여 이미지를 분류할 수 있습니다."
   ]
  }
 ],
 "metadata": {
  "accelerator": "GPU",
  "colab": {
   "provenance": []
  },
  "kernelspec": {
   "display_name": "Python 3 (ipykernel)",
   "language": "python",
   "name": "python3"
  },
  "language_info": {
   "codemirror_mode": {
    "name": "ipython",
    "version": 3
   },
   "file_extension": ".py",
   "mimetype": "text/x-python",
   "name": "python",
   "nbconvert_exporter": "python",
   "pygments_lexer": "ipython3",
   "version": "3.9.7"
  }
 },
 "nbformat": 4,
 "nbformat_minor": 1
}
